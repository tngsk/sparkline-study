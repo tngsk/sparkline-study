{
 "metadata": {
  "language_info": {
   "codemirror_mode": {
    "name": "ipython",
    "version": 3
   },
   "file_extension": ".py",
   "mimetype": "text/x-python",
   "name": "python",
   "nbconvert_exporter": "python",
   "pygments_lexer": "ipython3",
   "version": "3.7.7-final"
  },
  "orig_nbformat": 2,
  "kernelspec": {
   "name": "python3",
   "display_name": "Python 3"
  }
 },
 "nbformat": 4,
 "nbformat_minor": 2,
 "cells": [
  {
   "cell_type": "code",
   "execution_count": 1,
   "metadata": {},
   "outputs": [],
   "source": [
    "import numpy as np\n",
    "import pandas as pd"
   ]
  },
  {
   "cell_type": "code",
   "execution_count": 112,
   "metadata": {},
   "outputs": [
    {
     "output_type": "execute_result",
     "data": {
      "text/plain": [
       "           data\n",
       "index          \n",
       "0      0.061199\n",
       "1     -0.659804\n",
       "2      0.340600\n",
       "3     -1.094073\n",
       "4      0.751611"
      ],
      "text/html": "<div>\n<style scoped>\n    .dataframe tbody tr th:only-of-type {\n        vertical-align: middle;\n    }\n\n    .dataframe tbody tr th {\n        vertical-align: top;\n    }\n\n    .dataframe thead th {\n        text-align: right;\n    }\n</style>\n<table border=\"1\" class=\"dataframe\">\n  <thead>\n    <tr style=\"text-align: right;\">\n      <th></th>\n      <th>data</th>\n    </tr>\n    <tr>\n      <th>index</th>\n      <th></th>\n    </tr>\n  </thead>\n  <tbody>\n    <tr>\n      <th>0</th>\n      <td>0.061199</td>\n    </tr>\n    <tr>\n      <th>1</th>\n      <td>-0.659804</td>\n    </tr>\n    <tr>\n      <th>2</th>\n      <td>0.340600</td>\n    </tr>\n    <tr>\n      <th>3</th>\n      <td>-1.094073</td>\n    </tr>\n    <tr>\n      <th>4</th>\n      <td>0.751611</td>\n    </tr>\n  </tbody>\n</table>\n</div>"
     },
     "metadata": {},
     "execution_count": 112
    }
   ],
   "source": [
    "df = pd.read_csv('data.csv',index_col='index')\n",
    "df.head()"
   ]
  },
  {
   "cell_type": "code",
   "execution_count": 103,
   "metadata": {},
   "outputs": [
    {
     "output_type": "execute_result",
     "data": {
      "text/plain": [
       "           data\n",
       "index          \n",
       "0      0.061199\n",
       "1     -0.659804\n",
       "2      0.340600\n",
       "3     -1.094073\n",
       "4      0.751611"
      ],
      "text/html": "<div>\n<style scoped>\n    .dataframe tbody tr th:only-of-type {\n        vertical-align: middle;\n    }\n\n    .dataframe tbody tr th {\n        vertical-align: top;\n    }\n\n    .dataframe thead th {\n        text-align: right;\n    }\n</style>\n<table border=\"1\" class=\"dataframe\">\n  <thead>\n    <tr style=\"text-align: right;\">\n      <th></th>\n      <th>data</th>\n    </tr>\n    <tr>\n      <th>index</th>\n      <th></th>\n    </tr>\n  </thead>\n  <tbody>\n    <tr>\n      <th>0</th>\n      <td>0.061199</td>\n    </tr>\n    <tr>\n      <th>1</th>\n      <td>-0.659804</td>\n    </tr>\n    <tr>\n      <th>2</th>\n      <td>0.340600</td>\n    </tr>\n    <tr>\n      <th>3</th>\n      <td>-1.094073</td>\n    </tr>\n    <tr>\n      <th>4</th>\n      <td>0.751611</td>\n    </tr>\n  </tbody>\n</table>\n</div>"
     },
     "metadata": {},
     "execution_count": 103
    }
   ],
   "source": [
    "df1 = df[:500]\n",
    "df1.head()"
   ]
  },
  {
   "cell_type": "code",
   "execution_count": 104,
   "metadata": {},
   "outputs": [
    {
     "output_type": "execute_result",
     "data": {
      "text/plain": [
       "           data\n",
       "index          \n",
       "500   -0.621926\n",
       "501    0.771320\n",
       "502    1.412807\n",
       "503    0.641474\n",
       "504   -1.035259"
      ],
      "text/html": "<div>\n<style scoped>\n    .dataframe tbody tr th:only-of-type {\n        vertical-align: middle;\n    }\n\n    .dataframe tbody tr th {\n        vertical-align: top;\n    }\n\n    .dataframe thead th {\n        text-align: right;\n    }\n</style>\n<table border=\"1\" class=\"dataframe\">\n  <thead>\n    <tr style=\"text-align: right;\">\n      <th></th>\n      <th>data</th>\n    </tr>\n    <tr>\n      <th>index</th>\n      <th></th>\n    </tr>\n  </thead>\n  <tbody>\n    <tr>\n      <th>500</th>\n      <td>-0.621926</td>\n    </tr>\n    <tr>\n      <th>501</th>\n      <td>0.771320</td>\n    </tr>\n    <tr>\n      <th>502</th>\n      <td>1.412807</td>\n    </tr>\n    <tr>\n      <th>503</th>\n      <td>0.641474</td>\n    </tr>\n    <tr>\n      <th>504</th>\n      <td>-1.035259</td>\n    </tr>\n  </tbody>\n</table>\n</div>"
     },
     "metadata": {},
     "execution_count": 104
    }
   ],
   "source": [
    "df2 = df[500:]\n",
    "df2.head()"
   ]
  },
  {
   "cell_type": "code",
   "execution_count": 105,
   "metadata": {},
   "outputs": [],
   "source": [
    "# concat, join, merge"
   ]
  },
  {
   "cell_type": "code",
   "execution_count": 107,
   "metadata": {},
   "outputs": [
    {
     "output_type": "execute_result",
     "data": {
      "text/plain": [
       "           data\n",
       "index          \n",
       "0      0.061199\n",
       "1     -0.659804\n",
       "2      0.340600\n",
       "3     -1.094073\n",
       "4      0.751611\n",
       "...         ...\n",
       "995    0.622426\n",
       "996   -0.755656\n",
       "997    1.806369\n",
       "998    0.670597\n",
       "999    1.932249\n",
       "\n",
       "[1000 rows x 1 columns]"
      ],
      "text/html": "<div>\n<style scoped>\n    .dataframe tbody tr th:only-of-type {\n        vertical-align: middle;\n    }\n\n    .dataframe tbody tr th {\n        vertical-align: top;\n    }\n\n    .dataframe thead th {\n        text-align: right;\n    }\n</style>\n<table border=\"1\" class=\"dataframe\">\n  <thead>\n    <tr style=\"text-align: right;\">\n      <th></th>\n      <th>data</th>\n    </tr>\n    <tr>\n      <th>index</th>\n      <th></th>\n    </tr>\n  </thead>\n  <tbody>\n    <tr>\n      <th>0</th>\n      <td>0.061199</td>\n    </tr>\n    <tr>\n      <th>1</th>\n      <td>-0.659804</td>\n    </tr>\n    <tr>\n      <th>2</th>\n      <td>0.340600</td>\n    </tr>\n    <tr>\n      <th>3</th>\n      <td>-1.094073</td>\n    </tr>\n    <tr>\n      <th>4</th>\n      <td>0.751611</td>\n    </tr>\n    <tr>\n      <th>...</th>\n      <td>...</td>\n    </tr>\n    <tr>\n      <th>995</th>\n      <td>0.622426</td>\n    </tr>\n    <tr>\n      <th>996</th>\n      <td>-0.755656</td>\n    </tr>\n    <tr>\n      <th>997</th>\n      <td>1.806369</td>\n    </tr>\n    <tr>\n      <th>998</th>\n      <td>0.670597</td>\n    </tr>\n    <tr>\n      <th>999</th>\n      <td>1.932249</td>\n    </tr>\n  </tbody>\n</table>\n<p>1000 rows × 1 columns</p>\n</div>"
     },
     "metadata": {},
     "execution_count": 107
    }
   ],
   "source": [
    "df_concat = pd.concat([df1,df2])\n",
    "df_concat"
   ]
  },
  {
   "cell_type": "code",
   "execution_count": 108,
   "metadata": {},
   "outputs": [
    {
     "output_type": "execute_result",
     "data": {
      "text/plain": [
       "           data      data\n",
       "index                    \n",
       "0      0.061199       NaN\n",
       "1     -0.659804       NaN\n",
       "2      0.340600       NaN\n",
       "3     -1.094073       NaN\n",
       "4      0.751611       NaN\n",
       "...         ...       ...\n",
       "995         NaN  0.622426\n",
       "996         NaN -0.755656\n",
       "997         NaN  1.806369\n",
       "998         NaN  0.670597\n",
       "999         NaN  1.932249\n",
       "\n",
       "[1000 rows x 2 columns]"
      ],
      "text/html": "<div>\n<style scoped>\n    .dataframe tbody tr th:only-of-type {\n        vertical-align: middle;\n    }\n\n    .dataframe tbody tr th {\n        vertical-align: top;\n    }\n\n    .dataframe thead th {\n        text-align: right;\n    }\n</style>\n<table border=\"1\" class=\"dataframe\">\n  <thead>\n    <tr style=\"text-align: right;\">\n      <th></th>\n      <th>data</th>\n      <th>data</th>\n    </tr>\n    <tr>\n      <th>index</th>\n      <th></th>\n      <th></th>\n    </tr>\n  </thead>\n  <tbody>\n    <tr>\n      <th>0</th>\n      <td>0.061199</td>\n      <td>NaN</td>\n    </tr>\n    <tr>\n      <th>1</th>\n      <td>-0.659804</td>\n      <td>NaN</td>\n    </tr>\n    <tr>\n      <th>2</th>\n      <td>0.340600</td>\n      <td>NaN</td>\n    </tr>\n    <tr>\n      <th>3</th>\n      <td>-1.094073</td>\n      <td>NaN</td>\n    </tr>\n    <tr>\n      <th>4</th>\n      <td>0.751611</td>\n      <td>NaN</td>\n    </tr>\n    <tr>\n      <th>...</th>\n      <td>...</td>\n      <td>...</td>\n    </tr>\n    <tr>\n      <th>995</th>\n      <td>NaN</td>\n      <td>0.622426</td>\n    </tr>\n    <tr>\n      <th>996</th>\n      <td>NaN</td>\n      <td>-0.755656</td>\n    </tr>\n    <tr>\n      <th>997</th>\n      <td>NaN</td>\n      <td>1.806369</td>\n    </tr>\n    <tr>\n      <th>998</th>\n      <td>NaN</td>\n      <td>0.670597</td>\n    </tr>\n    <tr>\n      <th>999</th>\n      <td>NaN</td>\n      <td>1.932249</td>\n    </tr>\n  </tbody>\n</table>\n<p>1000 rows × 2 columns</p>\n</div>"
     },
     "metadata": {},
     "execution_count": 108
    }
   ],
   "source": [
    "df_concat = pd.concat([df1,df2],axis=1)\n",
    "df_concat"
   ]
  },
  {
   "cell_type": "code",
   "execution_count": 109,
   "metadata": {},
   "outputs": [
    {
     "output_type": "execute_result",
     "data": {
      "text/plain": [
       "              0         1\n",
       "index                    \n",
       "0      0.061199       NaN\n",
       "1     -0.659804       NaN\n",
       "2      0.340600       NaN\n",
       "3     -1.094073       NaN\n",
       "4      0.751611       NaN\n",
       "...         ...       ...\n",
       "995         NaN  0.622426\n",
       "996         NaN -0.755656\n",
       "997         NaN  1.806369\n",
       "998         NaN  0.670597\n",
       "999         NaN  1.932249\n",
       "\n",
       "[1000 rows x 2 columns]"
      ],
      "text/html": "<div>\n<style scoped>\n    .dataframe tbody tr th:only-of-type {\n        vertical-align: middle;\n    }\n\n    .dataframe tbody tr th {\n        vertical-align: top;\n    }\n\n    .dataframe thead th {\n        text-align: right;\n    }\n</style>\n<table border=\"1\" class=\"dataframe\">\n  <thead>\n    <tr style=\"text-align: right;\">\n      <th></th>\n      <th>0</th>\n      <th>1</th>\n    </tr>\n    <tr>\n      <th>index</th>\n      <th></th>\n      <th></th>\n    </tr>\n  </thead>\n  <tbody>\n    <tr>\n      <th>0</th>\n      <td>0.061199</td>\n      <td>NaN</td>\n    </tr>\n    <tr>\n      <th>1</th>\n      <td>-0.659804</td>\n      <td>NaN</td>\n    </tr>\n    <tr>\n      <th>2</th>\n      <td>0.340600</td>\n      <td>NaN</td>\n    </tr>\n    <tr>\n      <th>3</th>\n      <td>-1.094073</td>\n      <td>NaN</td>\n    </tr>\n    <tr>\n      <th>4</th>\n      <td>0.751611</td>\n      <td>NaN</td>\n    </tr>\n    <tr>\n      <th>...</th>\n      <td>...</td>\n      <td>...</td>\n    </tr>\n    <tr>\n      <th>995</th>\n      <td>NaN</td>\n      <td>0.622426</td>\n    </tr>\n    <tr>\n      <th>996</th>\n      <td>NaN</td>\n      <td>-0.755656</td>\n    </tr>\n    <tr>\n      <th>997</th>\n      <td>NaN</td>\n      <td>1.806369</td>\n    </tr>\n    <tr>\n      <th>998</th>\n      <td>NaN</td>\n      <td>0.670597</td>\n    </tr>\n    <tr>\n      <th>999</th>\n      <td>NaN</td>\n      <td>1.932249</td>\n    </tr>\n  </tbody>\n</table>\n<p>1000 rows × 2 columns</p>\n</div>"
     },
     "metadata": {},
     "execution_count": 109
    }
   ],
   "source": [
    "df_concat = pd.concat([df1,df2],axis=1, ignore_index=True)\n",
    "df_concat"
   ]
  },
  {
   "cell_type": "code",
   "execution_count": 110,
   "metadata": {},
   "outputs": [],
   "source": [
    "df2.index = df1.index"
   ]
  },
  {
   "cell_type": "code",
   "execution_count": 114,
   "metadata": {},
   "outputs": [
    {
     "output_type": "execute_result",
     "data": {
      "text/plain": [
       "           data\n",
       "index          \n",
       "0      0.061199\n",
       "1     -0.659804\n",
       "2      0.340600\n",
       "3     -1.094073\n",
       "4      0.751611\n",
       "...         ...\n",
       "495    0.622426\n",
       "496   -0.755656\n",
       "497    1.806369\n",
       "498    0.670597\n",
       "499    1.932249\n",
       "\n",
       "[1000 rows x 1 columns]"
      ],
      "text/html": "<div>\n<style scoped>\n    .dataframe tbody tr th:only-of-type {\n        vertical-align: middle;\n    }\n\n    .dataframe tbody tr th {\n        vertical-align: top;\n    }\n\n    .dataframe thead th {\n        text-align: right;\n    }\n</style>\n<table border=\"1\" class=\"dataframe\">\n  <thead>\n    <tr style=\"text-align: right;\">\n      <th></th>\n      <th>data</th>\n    </tr>\n    <tr>\n      <th>index</th>\n      <th></th>\n    </tr>\n  </thead>\n  <tbody>\n    <tr>\n      <th>0</th>\n      <td>0.061199</td>\n    </tr>\n    <tr>\n      <th>1</th>\n      <td>-0.659804</td>\n    </tr>\n    <tr>\n      <th>2</th>\n      <td>0.340600</td>\n    </tr>\n    <tr>\n      <th>3</th>\n      <td>-1.094073</td>\n    </tr>\n    <tr>\n      <th>4</th>\n      <td>0.751611</td>\n    </tr>\n    <tr>\n      <th>...</th>\n      <td>...</td>\n    </tr>\n    <tr>\n      <th>495</th>\n      <td>0.622426</td>\n    </tr>\n    <tr>\n      <th>496</th>\n      <td>-0.755656</td>\n    </tr>\n    <tr>\n      <th>497</th>\n      <td>1.806369</td>\n    </tr>\n    <tr>\n      <th>498</th>\n      <td>0.670597</td>\n    </tr>\n    <tr>\n      <th>499</th>\n      <td>1.932249</td>\n    </tr>\n  </tbody>\n</table>\n<p>1000 rows × 1 columns</p>\n</div>"
     },
     "metadata": {},
     "execution_count": 114
    }
   ],
   "source": [
    "df_concat = pd.concat([df1,df2])\n",
    "df_concat"
   ]
  },
  {
   "cell_type": "code",
   "execution_count": 115,
   "metadata": {},
   "outputs": [
    {
     "output_type": "execute_result",
     "data": {
      "text/plain": [
       "           data\n",
       "index          \n",
       "1     -0.659804\n",
       "1      0.771320"
      ],
      "text/html": "<div>\n<style scoped>\n    .dataframe tbody tr th:only-of-type {\n        vertical-align: middle;\n    }\n\n    .dataframe tbody tr th {\n        vertical-align: top;\n    }\n\n    .dataframe thead th {\n        text-align: right;\n    }\n</style>\n<table border=\"1\" class=\"dataframe\">\n  <thead>\n    <tr style=\"text-align: right;\">\n      <th></th>\n      <th>data</th>\n    </tr>\n    <tr>\n      <th>index</th>\n      <th></th>\n    </tr>\n  </thead>\n  <tbody>\n    <tr>\n      <th>1</th>\n      <td>-0.659804</td>\n    </tr>\n    <tr>\n      <th>1</th>\n      <td>0.771320</td>\n    </tr>\n  </tbody>\n</table>\n</div>"
     },
     "metadata": {},
     "execution_count": 115
    }
   ],
   "source": [
    "df_concat.loc[1]"
   ]
  },
  {
   "cell_type": "code",
   "execution_count": 118,
   "metadata": {},
   "outputs": [
    {
     "output_type": "execute_result",
     "data": {
      "text/plain": [
       "         data\n",
       "0    0.061199\n",
       "1   -0.659804\n",
       "2    0.340600\n",
       "3   -1.094073\n",
       "4    0.751611\n",
       "..        ...\n",
       "995  0.622426\n",
       "996 -0.755656\n",
       "997  1.806369\n",
       "998  0.670597\n",
       "999  1.932249\n",
       "\n",
       "[1000 rows x 1 columns]"
      ],
      "text/html": "<div>\n<style scoped>\n    .dataframe tbody tr th:only-of-type {\n        vertical-align: middle;\n    }\n\n    .dataframe tbody tr th {\n        vertical-align: top;\n    }\n\n    .dataframe thead th {\n        text-align: right;\n    }\n</style>\n<table border=\"1\" class=\"dataframe\">\n  <thead>\n    <tr style=\"text-align: right;\">\n      <th></th>\n      <th>data</th>\n    </tr>\n  </thead>\n  <tbody>\n    <tr>\n      <th>0</th>\n      <td>0.061199</td>\n    </tr>\n    <tr>\n      <th>1</th>\n      <td>-0.659804</td>\n    </tr>\n    <tr>\n      <th>2</th>\n      <td>0.340600</td>\n    </tr>\n    <tr>\n      <th>3</th>\n      <td>-1.094073</td>\n    </tr>\n    <tr>\n      <th>4</th>\n      <td>0.751611</td>\n    </tr>\n    <tr>\n      <th>...</th>\n      <td>...</td>\n    </tr>\n    <tr>\n      <th>995</th>\n      <td>0.622426</td>\n    </tr>\n    <tr>\n      <th>996</th>\n      <td>-0.755656</td>\n    </tr>\n    <tr>\n      <th>997</th>\n      <td>1.806369</td>\n    </tr>\n    <tr>\n      <th>998</th>\n      <td>0.670597</td>\n    </tr>\n    <tr>\n      <th>999</th>\n      <td>1.932249</td>\n    </tr>\n  </tbody>\n</table>\n<p>1000 rows × 1 columns</p>\n</div>"
     },
     "metadata": {},
     "execution_count": 118
    }
   ],
   "source": [
    "df_concat = pd.concat([df1,df2],ignore_index=True)\n",
    "df_concat"
   ]
  },
  {
   "cell_type": "code",
   "execution_count": 119,
   "metadata": {},
   "outputs": [
    {
     "output_type": "execute_result",
     "data": {
      "text/plain": [
       "data   -0.659804\n",
       "Name: 1, dtype: float64"
      ]
     },
     "metadata": {},
     "execution_count": 119
    }
   ],
   "source": [
    "df_concat.loc[1]"
   ]
  },
  {
   "cell_type": "code",
   "execution_count": 121,
   "metadata": {},
   "outputs": [
    {
     "output_type": "execute_result",
     "data": {
      "text/plain": [
       "           data      data\n",
       "index                    \n",
       "0      0.061199 -0.621926\n",
       "1     -0.659804  0.771320\n",
       "2      0.340600  1.412807\n",
       "3     -1.094073  0.641474\n",
       "4      0.751611 -1.035259\n",
       "...         ...       ...\n",
       "495    1.213416  0.622426\n",
       "496    0.738298 -0.755656\n",
       "497    1.112194  1.806369\n",
       "498   -0.044470  0.670597\n",
       "499    0.517243  1.932249\n",
       "\n",
       "[500 rows x 2 columns]"
      ],
      "text/html": "<div>\n<style scoped>\n    .dataframe tbody tr th:only-of-type {\n        vertical-align: middle;\n    }\n\n    .dataframe tbody tr th {\n        vertical-align: top;\n    }\n\n    .dataframe thead th {\n        text-align: right;\n    }\n</style>\n<table border=\"1\" class=\"dataframe\">\n  <thead>\n    <tr style=\"text-align: right;\">\n      <th></th>\n      <th>data</th>\n      <th>data</th>\n    </tr>\n    <tr>\n      <th>index</th>\n      <th></th>\n      <th></th>\n    </tr>\n  </thead>\n  <tbody>\n    <tr>\n      <th>0</th>\n      <td>0.061199</td>\n      <td>-0.621926</td>\n    </tr>\n    <tr>\n      <th>1</th>\n      <td>-0.659804</td>\n      <td>0.771320</td>\n    </tr>\n    <tr>\n      <th>2</th>\n      <td>0.340600</td>\n      <td>1.412807</td>\n    </tr>\n    <tr>\n      <th>3</th>\n      <td>-1.094073</td>\n      <td>0.641474</td>\n    </tr>\n    <tr>\n      <th>4</th>\n      <td>0.751611</td>\n      <td>-1.035259</td>\n    </tr>\n    <tr>\n      <th>...</th>\n      <td>...</td>\n      <td>...</td>\n    </tr>\n    <tr>\n      <th>495</th>\n      <td>1.213416</td>\n      <td>0.622426</td>\n    </tr>\n    <tr>\n      <th>496</th>\n      <td>0.738298</td>\n      <td>-0.755656</td>\n    </tr>\n    <tr>\n      <th>497</th>\n      <td>1.112194</td>\n      <td>1.806369</td>\n    </tr>\n    <tr>\n      <th>498</th>\n      <td>-0.044470</td>\n      <td>0.670597</td>\n    </tr>\n    <tr>\n      <th>499</th>\n      <td>0.517243</td>\n      <td>1.932249</td>\n    </tr>\n  </tbody>\n</table>\n<p>500 rows × 2 columns</p>\n</div>"
     },
     "metadata": {},
     "execution_count": 121
    }
   ],
   "source": [
    "df_concat = pd.concat([df1,df2], axis=1)\n",
    "df_concat"
   ]
  },
  {
   "cell_type": "code",
   "execution_count": 122,
   "metadata": {},
   "outputs": [
    {
     "output_type": "execute_result",
     "data": {
      "text/plain": [
       "           data\n",
       "index          \n",
       "500   -0.621926\n",
       "501    0.771320\n",
       "502    1.412807\n",
       "503    0.641474\n",
       "504   -1.035259\n",
       "...         ...\n",
       "995    0.622426\n",
       "996   -0.755656\n",
       "997    1.806369\n",
       "998    0.670597\n",
       "999    1.932249\n",
       "\n",
       "[500 rows x 1 columns]"
      ],
      "text/html": "<div>\n<style scoped>\n    .dataframe tbody tr th:only-of-type {\n        vertical-align: middle;\n    }\n\n    .dataframe tbody tr th {\n        vertical-align: top;\n    }\n\n    .dataframe thead th {\n        text-align: right;\n    }\n</style>\n<table border=\"1\" class=\"dataframe\">\n  <thead>\n    <tr style=\"text-align: right;\">\n      <th></th>\n      <th>data</th>\n    </tr>\n    <tr>\n      <th>index</th>\n      <th></th>\n    </tr>\n  </thead>\n  <tbody>\n    <tr>\n      <th>500</th>\n      <td>-0.621926</td>\n    </tr>\n    <tr>\n      <th>501</th>\n      <td>0.771320</td>\n    </tr>\n    <tr>\n      <th>502</th>\n      <td>1.412807</td>\n    </tr>\n    <tr>\n      <th>503</th>\n      <td>0.641474</td>\n    </tr>\n    <tr>\n      <th>504</th>\n      <td>-1.035259</td>\n    </tr>\n    <tr>\n      <th>...</th>\n      <td>...</td>\n    </tr>\n    <tr>\n      <th>995</th>\n      <td>0.622426</td>\n    </tr>\n    <tr>\n      <th>996</th>\n      <td>-0.755656</td>\n    </tr>\n    <tr>\n      <th>997</th>\n      <td>1.806369</td>\n    </tr>\n    <tr>\n      <th>998</th>\n      <td>0.670597</td>\n    </tr>\n    <tr>\n      <th>999</th>\n      <td>1.932249</td>\n    </tr>\n  </tbody>\n</table>\n<p>500 rows × 1 columns</p>\n</div>"
     },
     "metadata": {},
     "execution_count": 122
    }
   ],
   "source": [
    " df2 = df[500:]\n",
    " df2"
   ]
  },
  {
   "cell_type": "code",
   "execution_count": 132,
   "metadata": {},
   "outputs": [],
   "source": [
    "df1.columns = ['number']\n",
    "df2.columns = ['graph']"
   ]
  },
  {
   "cell_type": "code",
   "execution_count": 142,
   "metadata": {},
   "outputs": [],
   "source": [
    "df1 = df1.reset_index()\n",
    "df2 = df2.reset_index()"
   ]
  },
  {
   "cell_type": "code",
   "execution_count": 144,
   "metadata": {},
   "outputs": [
    {
     "output_type": "execute_result",
     "data": {
      "text/plain": [
       "     index    number  index     graph\n",
       "0        0  0.061199    500 -0.621926\n",
       "1        1 -0.659804    501  0.771320\n",
       "2        2  0.340600    502  1.412807\n",
       "3        3 -1.094073    503  0.641474\n",
       "4        4  0.751611    504 -1.035259\n",
       "..     ...       ...    ...       ...\n",
       "495    495  1.213416    995  0.622426\n",
       "496    496  0.738298    996 -0.755656\n",
       "497    497  1.112194    997  1.806369\n",
       "498    498 -0.044470    998  0.670597\n",
       "499    499  0.517243    999  1.932249\n",
       "\n",
       "[500 rows x 4 columns]"
      ],
      "text/html": "<div>\n<style scoped>\n    .dataframe tbody tr th:only-of-type {\n        vertical-align: middle;\n    }\n\n    .dataframe tbody tr th {\n        vertical-align: top;\n    }\n\n    .dataframe thead th {\n        text-align: right;\n    }\n</style>\n<table border=\"1\" class=\"dataframe\">\n  <thead>\n    <tr style=\"text-align: right;\">\n      <th></th>\n      <th>index</th>\n      <th>number</th>\n      <th>index</th>\n      <th>graph</th>\n    </tr>\n  </thead>\n  <tbody>\n    <tr>\n      <th>0</th>\n      <td>0</td>\n      <td>0.061199</td>\n      <td>500</td>\n      <td>-0.621926</td>\n    </tr>\n    <tr>\n      <th>1</th>\n      <td>1</td>\n      <td>-0.659804</td>\n      <td>501</td>\n      <td>0.771320</td>\n    </tr>\n    <tr>\n      <th>2</th>\n      <td>2</td>\n      <td>0.340600</td>\n      <td>502</td>\n      <td>1.412807</td>\n    </tr>\n    <tr>\n      <th>3</th>\n      <td>3</td>\n      <td>-1.094073</td>\n      <td>503</td>\n      <td>0.641474</td>\n    </tr>\n    <tr>\n      <th>4</th>\n      <td>4</td>\n      <td>0.751611</td>\n      <td>504</td>\n      <td>-1.035259</td>\n    </tr>\n    <tr>\n      <th>...</th>\n      <td>...</td>\n      <td>...</td>\n      <td>...</td>\n      <td>...</td>\n    </tr>\n    <tr>\n      <th>495</th>\n      <td>495</td>\n      <td>1.213416</td>\n      <td>995</td>\n      <td>0.622426</td>\n    </tr>\n    <tr>\n      <th>496</th>\n      <td>496</td>\n      <td>0.738298</td>\n      <td>996</td>\n      <td>-0.755656</td>\n    </tr>\n    <tr>\n      <th>497</th>\n      <td>497</td>\n      <td>1.112194</td>\n      <td>997</td>\n      <td>1.806369</td>\n    </tr>\n    <tr>\n      <th>498</th>\n      <td>498</td>\n      <td>-0.044470</td>\n      <td>998</td>\n      <td>0.670597</td>\n    </tr>\n    <tr>\n      <th>499</th>\n      <td>499</td>\n      <td>0.517243</td>\n      <td>999</td>\n      <td>1.932249</td>\n    </tr>\n  </tbody>\n</table>\n<p>500 rows × 4 columns</p>\n</div>"
     },
     "metadata": {},
     "execution_count": 144
    }
   ],
   "source": [
    "df_concat = pd.concat([df1,df2], axis=1)\n",
    "df_concat"
   ]
  },
  {
   "cell_type": "code",
   "execution_count": 146,
   "metadata": {},
   "outputs": [],
   "source": [
    "# merge\n",
    "\n",
    "df = pd.read_csv('data.csv',index_col='index')\n",
    "df1 = df[:500]\n",
    "df2 = df[500:]"
   ]
  },
  {
   "cell_type": "code",
   "execution_count": 148,
   "metadata": {},
   "outputs": [
    {
     "output_type": "execute_result",
     "data": {
      "text/plain": [
       "Empty DataFrame\n",
       "Columns: [data]\n",
       "Index: []"
      ],
      "text/html": "<div>\n<style scoped>\n    .dataframe tbody tr th:only-of-type {\n        vertical-align: middle;\n    }\n\n    .dataframe tbody tr th {\n        vertical-align: top;\n    }\n\n    .dataframe thead th {\n        text-align: right;\n    }\n</style>\n<table border=\"1\" class=\"dataframe\">\n  <thead>\n    <tr style=\"text-align: right;\">\n      <th></th>\n      <th>data</th>\n    </tr>\n  </thead>\n  <tbody>\n  </tbody>\n</table>\n</div>"
     },
     "metadata": {},
     "execution_count": 148
    }
   ],
   "source": [
    "df_merge = pd.merge(df1,df2)\n",
    "df_merge"
   ]
  },
  {
   "cell_type": "code",
   "execution_count": 163,
   "metadata": {},
   "outputs": [
    {
     "output_type": "execute_result",
     "data": {
      "text/plain": [
       "         number     graph\n",
       "index                    \n",
       "0      0.061199 -0.621926\n",
       "1     -0.659804  0.771320\n",
       "2      0.340600  1.412807\n",
       "3     -1.094073  0.641474\n",
       "4      0.751611 -1.035259\n",
       "...         ...       ...\n",
       "495    1.213416  0.622426\n",
       "496    0.738298 -0.755656\n",
       "497    1.112194  1.806369\n",
       "498   -0.044470  0.670597\n",
       "499    0.517243  1.932249\n",
       "\n",
       "[500 rows x 2 columns]"
      ],
      "text/html": "<div>\n<style scoped>\n    .dataframe tbody tr th:only-of-type {\n        vertical-align: middle;\n    }\n\n    .dataframe tbody tr th {\n        vertical-align: top;\n    }\n\n    .dataframe thead th {\n        text-align: right;\n    }\n</style>\n<table border=\"1\" class=\"dataframe\">\n  <thead>\n    <tr style=\"text-align: right;\">\n      <th></th>\n      <th>number</th>\n      <th>graph</th>\n    </tr>\n    <tr>\n      <th>index</th>\n      <th></th>\n      <th></th>\n    </tr>\n  </thead>\n  <tbody>\n    <tr>\n      <th>0</th>\n      <td>0.061199</td>\n      <td>-0.621926</td>\n    </tr>\n    <tr>\n      <th>1</th>\n      <td>-0.659804</td>\n      <td>0.771320</td>\n    </tr>\n    <tr>\n      <th>2</th>\n      <td>0.340600</td>\n      <td>1.412807</td>\n    </tr>\n    <tr>\n      <th>3</th>\n      <td>-1.094073</td>\n      <td>0.641474</td>\n    </tr>\n    <tr>\n      <th>4</th>\n      <td>0.751611</td>\n      <td>-1.035259</td>\n    </tr>\n    <tr>\n      <th>...</th>\n      <td>...</td>\n      <td>...</td>\n    </tr>\n    <tr>\n      <th>495</th>\n      <td>1.213416</td>\n      <td>0.622426</td>\n    </tr>\n    <tr>\n      <th>496</th>\n      <td>0.738298</td>\n      <td>-0.755656</td>\n    </tr>\n    <tr>\n      <th>497</th>\n      <td>1.112194</td>\n      <td>1.806369</td>\n    </tr>\n    <tr>\n      <th>498</th>\n      <td>-0.044470</td>\n      <td>0.670597</td>\n    </tr>\n    <tr>\n      <th>499</th>\n      <td>0.517243</td>\n      <td>1.932249</td>\n    </tr>\n  </tbody>\n</table>\n<p>500 rows × 2 columns</p>\n</div>"
     },
     "metadata": {},
     "execution_count": 163
    }
   ],
   "source": [
    "# new\n",
    "\n",
    "df3 = pd.DataFrame({'number':df1.data.values, 'graph':df2.data.values}, index=df1.index)\n",
    "df3"
   ]
  },
  {
   "cell_type": "code",
   "execution_count": 165,
   "metadata": {},
   "outputs": [
    {
     "output_type": "execute_result",
     "data": {
      "text/plain": [
       "   data\n",
       "0     1\n",
       "1     2\n",
       "2     3\n",
       "3     4\n",
       "4     5\n",
       "5     6\n",
       "6     7\n",
       "7     8\n",
       "8     9\n",
       "9    10"
      ],
      "text/html": "<div>\n<style scoped>\n    .dataframe tbody tr th:only-of-type {\n        vertical-align: middle;\n    }\n\n    .dataframe tbody tr th {\n        vertical-align: top;\n    }\n\n    .dataframe thead th {\n        text-align: right;\n    }\n</style>\n<table border=\"1\" class=\"dataframe\">\n  <thead>\n    <tr style=\"text-align: right;\">\n      <th></th>\n      <th>data</th>\n    </tr>\n  </thead>\n  <tbody>\n    <tr>\n      <th>0</th>\n      <td>1</td>\n    </tr>\n    <tr>\n      <th>1</th>\n      <td>2</td>\n    </tr>\n    <tr>\n      <th>2</th>\n      <td>3</td>\n    </tr>\n    <tr>\n      <th>3</th>\n      <td>4</td>\n    </tr>\n    <tr>\n      <th>4</th>\n      <td>5</td>\n    </tr>\n    <tr>\n      <th>5</th>\n      <td>6</td>\n    </tr>\n    <tr>\n      <th>6</th>\n      <td>7</td>\n    </tr>\n    <tr>\n      <th>7</th>\n      <td>8</td>\n    </tr>\n    <tr>\n      <th>8</th>\n      <td>9</td>\n    </tr>\n    <tr>\n      <th>9</th>\n      <td>10</td>\n    </tr>\n  </tbody>\n</table>\n</div>"
     },
     "metadata": {},
     "execution_count": 165
    }
   ],
   "source": [
    "df = pd.DataFrame([1,2,3,4,5,6,7,8,9,10], columns={'data'})\n",
    "df"
   ]
  },
  {
   "cell_type": "code",
   "execution_count": 189,
   "metadata": {},
   "outputs": [],
   "source": [
    "df1 = df[:5]\n",
    "df2 = df[5:]"
   ]
  },
  {
   "cell_type": "code",
   "execution_count": 190,
   "metadata": {},
   "outputs": [],
   "source": [
    "df3 = df1"
   ]
  },
  {
   "cell_type": "code",
   "execution_count": 191,
   "metadata": {},
   "outputs": [
    {
     "output_type": "execute_result",
     "data": {
      "text/plain": [
       "Index(['data'], dtype='object')"
      ]
     },
     "metadata": {},
     "execution_count": 191
    }
   ],
   "source": [
    "df3.columns"
   ]
  },
  {
   "cell_type": "code",
   "execution_count": 198,
   "metadata": {},
   "outputs": [],
   "source": [
    "df2 = df2.reset_index(drop=True)"
   ]
  },
  {
   "cell_type": "code",
   "execution_count": 199,
   "metadata": {},
   "outputs": [],
   "source": [
    "df3['data2'] = df2['data']"
   ]
  },
  {
   "cell_type": "code",
   "execution_count": 200,
   "metadata": {},
   "outputs": [
    {
     "output_type": "execute_result",
     "data": {
      "text/plain": [
       "   data  data2\n",
       "0     1      6\n",
       "1     2      7\n",
       "2     3      8\n",
       "3     4      9\n",
       "4     5     10"
      ],
      "text/html": "<div>\n<style scoped>\n    .dataframe tbody tr th:only-of-type {\n        vertical-align: middle;\n    }\n\n    .dataframe tbody tr th {\n        vertical-align: top;\n    }\n\n    .dataframe thead th {\n        text-align: right;\n    }\n</style>\n<table border=\"1\" class=\"dataframe\">\n  <thead>\n    <tr style=\"text-align: right;\">\n      <th></th>\n      <th>data</th>\n      <th>data2</th>\n    </tr>\n  </thead>\n  <tbody>\n    <tr>\n      <th>0</th>\n      <td>1</td>\n      <td>6</td>\n    </tr>\n    <tr>\n      <th>1</th>\n      <td>2</td>\n      <td>7</td>\n    </tr>\n    <tr>\n      <th>2</th>\n      <td>3</td>\n      <td>8</td>\n    </tr>\n    <tr>\n      <th>3</th>\n      <td>4</td>\n      <td>9</td>\n    </tr>\n    <tr>\n      <th>4</th>\n      <td>5</td>\n      <td>10</td>\n    </tr>\n  </tbody>\n</table>\n</div>"
     },
     "metadata": {},
     "execution_count": 200
    }
   ],
   "source": [
    "df3"
   ]
  },
  {
   "cell_type": "code",
   "execution_count": 201,
   "metadata": {},
   "outputs": [
    {
     "output_type": "execute_result",
     "data": {
      "text/plain": [
       "   data\n",
       "0     6\n",
       "1     7\n",
       "2     8\n",
       "3     9\n",
       "4    10"
      ],
      "text/html": "<div>\n<style scoped>\n    .dataframe tbody tr th:only-of-type {\n        vertical-align: middle;\n    }\n\n    .dataframe tbody tr th {\n        vertical-align: top;\n    }\n\n    .dataframe thead th {\n        text-align: right;\n    }\n</style>\n<table border=\"1\" class=\"dataframe\">\n  <thead>\n    <tr style=\"text-align: right;\">\n      <th></th>\n      <th>data</th>\n    </tr>\n  </thead>\n  <tbody>\n    <tr>\n      <th>0</th>\n      <td>6</td>\n    </tr>\n    <tr>\n      <th>1</th>\n      <td>7</td>\n    </tr>\n    <tr>\n      <th>2</th>\n      <td>8</td>\n    </tr>\n    <tr>\n      <th>3</th>\n      <td>9</td>\n    </tr>\n    <tr>\n      <th>4</th>\n      <td>10</td>\n    </tr>\n  </tbody>\n</table>\n</div>"
     },
     "metadata": {},
     "execution_count": 201
    }
   ],
   "source": [
    "df2"
   ]
  },
  {
   "cell_type": "code",
   "execution_count": null,
   "metadata": {},
   "outputs": [],
   "source": []
  }
 ]
}